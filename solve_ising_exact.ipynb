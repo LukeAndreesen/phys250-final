{
 "cells": [
  {
   "cell_type": "code",
   "execution_count": 5,
   "id": "b451f17d",
   "metadata": {},
   "outputs": [],
   "source": [
    "import numpy as np\n",
    "from itertools import product\n",
    "import time"
   ]
  },
  {
   "cell_type": "code",
   "execution_count": 6,
   "id": "30f8d5ac",
   "metadata": {},
   "outputs": [],
   "source": [
    "h = np.load('data/h_4_4.npy')\n",
    "#h = np.array([[-0.42900093, -0.34531477], [-0.1746655, -0.28350231]])\n",
    "J = 0.3"
   ]
  },
  {
   "cell_type": "code",
   "execution_count": 7,
   "id": "50360e2b",
   "metadata": {},
   "outputs": [],
   "source": [
    "def qubit_idx(i, j, n_cols):\n",
    "    return i * n_cols + j"
   ]
  },
  {
   "cell_type": "code",
   "execution_count": 8,
   "id": "74d0b3ef",
   "metadata": {},
   "outputs": [],
   "source": [
    "import numpy as np\n",
    "\n",
    "def compute_energy(h, config, J=1):\n",
    "    n, m = h.shape\n",
    "\n",
    "    # Shift configurations to compute interactions\n",
    "    down_interaction = config[:-1, :] * config[1:, :]  # Down neighbors\n",
    "    right_interaction = config[:, :-1] * config[:, 1:]  # Right neighbors\n",
    "\n",
    "    # Compute energy contributions from interactions\n",
    "    interaction_energy = -J * (np.sum(down_interaction) + np.sum(right_interaction))\n",
    "\n",
    "    # Compute energy contributions from the external field\n",
    "    field_energy = -np.sum(h * config)\n",
    "\n",
    "    return interaction_energy + field_energy\n"
   ]
  },
  {
   "cell_type": "code",
   "execution_count": 9,
   "id": "92dfc6e0",
   "metadata": {},
   "outputs": [],
   "source": [
    "def all_possible_energies(field, J=1):\n",
    "    n, m = field.shape\n",
    "    num_sites = n * m\n",
    "\n",
    "    # Generate all possible configurations\n",
    "    energies = {}\n",
    "    for binary_config in product([1, -1], repeat=num_sites):\n",
    "        config = np.array(binary_config).reshape((n, m))\n",
    "        energy = compute_energy(h, config, J)\n",
    "        energies[energy] = config\n",
    "    \n",
    "    return energies"
   ]
  },
  {
   "cell_type": "code",
   "execution_count": 10,
   "id": "94468804",
   "metadata": {},
   "outputs": [
    {
     "name": "stdout",
     "output_type": "stream",
     "text": [
      "[[-1 -1 -1 -1]\n",
      " [-1 -1 -1 -1]\n",
      " [-1 -1 -1 -1]\n",
      " [-1 -1 -1 -1]]\n",
      "-10.333169515182433\n"
     ]
    },
    {
     "name": "stderr",
     "output_type": "stream",
     "text": [
      "IOPub data rate exceeded.\n",
      "The notebook server will temporarily stop sending output\n",
      "to the client in order to avoid crashing it.\n",
      "To change this limit, set the config variable\n",
      "`--NotebookApp.iopub_data_rate_limit`.\n",
      "\n",
      "Current values:\n",
      "NotebookApp.iopub_data_rate_limit=1000000.0 (bytes/sec)\n",
      "NotebookApp.rate_limit_window=3.0 (secs)\n",
      "\n"
     ]
    }
   ],
   "source": [
    "start_time = time.time()\n",
    "energies = all_possible_energies(h, J=J)\n",
    "end_time = time.time()\n",
    "min_energy = min(energies.keys())\n",
    "min_energy_config = energies[min_energy]\n",
    "print(min_energy_config)\n",
    "print(min_energy)\n",
    "print(energies)"
   ]
  },
  {
   "cell_type": "code",
   "execution_count": 11,
   "id": "f27141f5",
   "metadata": {},
   "outputs": [
    {
     "name": "stdout",
     "output_type": "stream",
     "text": [
      "Execution time: 0.556237 seconds\n"
     ]
    }
   ],
   "source": [
    "print(f\"Execution time: {end_time - start_time:.6f} seconds\")"
   ]
  },
  {
   "cell_type": "code",
   "execution_count": null,
   "id": "e8a64720",
   "metadata": {},
   "outputs": [],
   "source": []
  },
  {
   "cell_type": "code",
   "execution_count": null,
   "id": "76b11d61",
   "metadata": {},
   "outputs": [],
   "source": []
  },
  {
   "cell_type": "code",
   "execution_count": null,
   "id": "0a26ed98",
   "metadata": {},
   "outputs": [],
   "source": []
  },
  {
   "cell_type": "code",
   "execution_count": 12,
   "id": "24bde955",
   "metadata": {},
   "outputs": [],
   "source": [
    "# Testing below"
   ]
  },
  {
   "cell_type": "code",
   "execution_count": 13,
   "id": "065d2358",
   "metadata": {
    "scrolled": false
   },
   "outputs": [
    {
     "ename": "FileNotFoundError",
     "evalue": "[Errno 2] No such file or directory: 'h_5_5.npy'",
     "output_type": "error",
     "traceback": [
      "\u001b[0;31m---------------------------------------------------------------------------\u001b[0m",
      "\u001b[0;31mFileNotFoundError\u001b[0m                         Traceback (most recent call last)",
      "Cell \u001b[0;32mIn[13], line 12\u001b[0m\n\u001b[1;32m      9\u001b[0m \u001b[38;5;66;03m#configuration = np.array([[1, -1, 1, -1], [-1, 1, -1, 1], [1, -1, 1, -1], [-1, 1, -1, 1]])\u001b[39;00m\n\u001b[1;32m     10\u001b[0m \u001b[38;5;66;03m#c = np.ones((5,5))\u001b[39;00m\n\u001b[1;32m     11\u001b[0m h \u001b[38;5;241m=\u001b[39m c \u001b[38;5;241m*\u001b[39m \u001b[38;5;241m.01\u001b[39m\n\u001b[0;32m---> 12\u001b[0m h3 \u001b[38;5;241m=\u001b[39m \u001b[43mnp\u001b[49m\u001b[38;5;241;43m.\u001b[39;49m\u001b[43mload\u001b[49m\u001b[43m(\u001b[49m\u001b[38;5;124;43m\"\u001b[39;49m\u001b[38;5;124;43mh_5_5.npy\u001b[39;49m\u001b[38;5;124;43m\"\u001b[39;49m\u001b[43m)\u001b[49m\n\u001b[1;32m     13\u001b[0m \u001b[38;5;66;03m#print(compute_energy2(h, c, J=1))\u001b[39;00m\n\u001b[1;32m     15\u001b[0m \u001b[38;5;28mprint\u001b[39m(compute_energy20(h3, c, J\u001b[38;5;241m=\u001b[39m\u001b[38;5;241m1.0\u001b[39m))\n",
      "File \u001b[0;32m/opt/homebrew/lib/python3.11/site-packages/numpy/lib/npyio.py:427\u001b[0m, in \u001b[0;36mload\u001b[0;34m(file, mmap_mode, allow_pickle, fix_imports, encoding, max_header_size)\u001b[0m\n\u001b[1;32m    425\u001b[0m     own_fid \u001b[38;5;241m=\u001b[39m \u001b[38;5;28;01mFalse\u001b[39;00m\n\u001b[1;32m    426\u001b[0m \u001b[38;5;28;01melse\u001b[39;00m:\n\u001b[0;32m--> 427\u001b[0m     fid \u001b[38;5;241m=\u001b[39m stack\u001b[38;5;241m.\u001b[39menter_context(\u001b[38;5;28;43mopen\u001b[39;49m\u001b[43m(\u001b[49m\u001b[43mos_fspath\u001b[49m\u001b[43m(\u001b[49m\u001b[43mfile\u001b[49m\u001b[43m)\u001b[49m\u001b[43m,\u001b[49m\u001b[43m \u001b[49m\u001b[38;5;124;43m\"\u001b[39;49m\u001b[38;5;124;43mrb\u001b[39;49m\u001b[38;5;124;43m\"\u001b[39;49m\u001b[43m)\u001b[49m)\n\u001b[1;32m    428\u001b[0m     own_fid \u001b[38;5;241m=\u001b[39m \u001b[38;5;28;01mTrue\u001b[39;00m\n\u001b[1;32m    430\u001b[0m \u001b[38;5;66;03m# Code to distinguish from NumPy binary files and pickles.\u001b[39;00m\n",
      "\u001b[0;31mFileNotFoundError\u001b[0m: [Errno 2] No such file or directory: 'h_5_5.npy'"
     ]
    }
   ],
   "source": [
    "#configuration = np.array([[-1, 1, -1], [-1, -1, -1], [-1, -1, -1]])\n",
    "c = np.array([[ 1,  1, -1, -1,  1],\n",
    " [ 1, -1, -1, -1,  1],\n",
    " [-1,  1, -1,  1,  1],\n",
    " [-1, -1, -1, -1,  1],\n",
    " [-1, -1, -1, -1, -1]]\n",
    "\n",
    ")\n",
    "#configuration = np.array([[1, -1, 1, -1], [-1, 1, -1, 1], [1, -1, 1, -1], [-1, 1, -1, 1]])\n",
    "#c = np.ones((5,5))\n",
    "h = c * .01\n",
    "h3 = np.load(\"h_5_5.npy\")\n",
    "#print(compute_energy2(h, c, J=1))\n",
    "\n",
    "print(compute_energy20(h3, c, J=1.0))\n",
    "#print(calculate_ising_energy(configuration, -1.0, h, False))"
   ]
  },
  {
   "cell_type": "code",
   "execution_count": null,
   "id": "f6320787",
   "metadata": {},
   "outputs": [],
   "source": []
  },
  {
   "cell_type": "code",
   "execution_count": null,
   "id": "04149d6c",
   "metadata": {},
   "outputs": [],
   "source": []
  },
  {
   "cell_type": "code",
   "execution_count": null,
   "id": "7ffebcaf",
   "metadata": {},
   "outputs": [],
   "source": []
  },
  {
   "cell_type": "code",
   "execution_count": null,
   "id": "352303ad",
   "metadata": {},
   "outputs": [],
   "source": []
  },
  {
   "cell_type": "code",
   "execution_count": null,
   "id": "9b079751",
   "metadata": {},
   "outputs": [],
   "source": []
  },
  {
   "cell_type": "code",
   "execution_count": null,
   "id": "557351b6",
   "metadata": {},
   "outputs": [],
   "source": []
  },
  {
   "cell_type": "code",
   "execution_count": null,
   "id": "d344a84e",
   "metadata": {},
   "outputs": [],
   "source": []
  },
  {
   "cell_type": "code",
   "execution_count": null,
   "id": "9c0055f8",
   "metadata": {},
   "outputs": [],
   "source": []
  },
  {
   "cell_type": "code",
   "execution_count": null,
   "id": "db825c1e",
   "metadata": {},
   "outputs": [],
   "source": []
  },
  {
   "cell_type": "code",
   "execution_count": null,
   "id": "65b784f9",
   "metadata": {},
   "outputs": [],
   "source": []
  }
 ],
 "metadata": {
  "kernelspec": {
   "display_name": "Python 3 (ipykernel)",
   "language": "python",
   "name": "python3"
  },
  "language_info": {
   "codemirror_mode": {
    "name": "ipython",
    "version": 3
   },
   "file_extension": ".py",
   "mimetype": "text/x-python",
   "name": "python",
   "nbconvert_exporter": "python",
   "pygments_lexer": "ipython3",
   "version": "3.11.10"
  }
 },
 "nbformat": 4,
 "nbformat_minor": 5
}
