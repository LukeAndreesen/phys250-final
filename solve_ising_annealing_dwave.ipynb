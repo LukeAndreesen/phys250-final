{
 "cells": [
  {
   "cell_type": "code",
   "execution_count": null,
   "id": "6cec9333",
   "metadata": {},
   "outputs": [],
   "source": [
    "from collections import defaultdict\n",
    "from dwave.system.samplers import DWaveSampler\n",
    "from dwave.system.composites import EmbeddingComposite\n",
    "from matplotlib import pyplot as plt\n",
    "import networkx as nx\n",
    "import numpy as np"
   ]
  },
  {
   "cell_type": "code",
   "execution_count": null,
   "id": "5bafb15b",
   "metadata": {
    "scrolled": true
   },
   "outputs": [],
   "source": [
    "token = # dev token here"
   ]
  },
  {
   "cell_type": "code",
   "execution_count": null,
   "id": "5ee4a6b4",
   "metadata": {},
   "outputs": [],
   "source": [
    "h = np.load('data/h_30_30.npy')\n",
    "#h = np.ones((5, 5)) * .01\n",
    "#h = np.array([[-0.42900093, -0.34531477], [-0.1746655, -0.28350231]])\n",
    "n_rows, n_cols = h.shape\n",
    "J = 0.7"
   ]
  },
  {
   "cell_type": "code",
   "execution_count": null,
   "id": "49bb820a",
   "metadata": {},
   "outputs": [],
   "source": [
    "h_flat = h.flatten()  # Flatten the 2D array into 1D\n",
    "n_rows, n_cols = h.shape\n",
    "j = {}\n",
    "coupling_strength = J * -1\n",
    "\n",
    "# Define horizontal couplings (within rows)\n",
    "for row in range(n_rows):\n",
    "    for col in range(n_cols - 1):\n",
    "        idx_1 = row * n_cols + col\n",
    "        idx_2 = row * n_cols + (col + 1)\n",
    "        j[(idx_1, idx_2)] = coupling_strength\n",
    "\n",
    "# Define vertical couplings (between rows)\n",
    "for row in range(n_rows - 1):\n",
    "    for col in range(n_cols):\n",
    "        idx_1 = row * n_cols + col\n",
    "        idx_2 = (row + 1) * n_cols + col\n",
    "        j[(idx_1, idx_2)] = coupling_strength\n"
   ]
  },
  {
   "cell_type": "code",
   "execution_count": null,
   "id": "d6e69e10",
   "metadata": {},
   "outputs": [],
   "source": [
    "h_flat *= -1"
   ]
  },
  {
   "cell_type": "code",
   "execution_count": null,
   "id": "77cbc40f",
   "metadata": {},
   "outputs": [],
   "source": [
    "sampler = EmbeddingComposite(DWaveSampler(token=token))\n",
    "response = sampler.sample_ising(h_flat, j,\n",
    "                            #    chain_strength=chainstrength,\n",
    "                                num_reads=100,\n",
    "                                label=f\"{n_rows}x{n_cols}, J={J} Ising Example\")"
   ]
  },
  {
   "cell_type": "code",
   "execution_count": null,
   "id": "e814a8d3",
   "metadata": {},
   "outputs": [],
   "source": [
    "# Print the results\n",
    "for sample, energy in response.data(fields=['sample', 'energy']):\n",
    "    print(\"Sample:\", sample, \"Energy:\", energy)"
   ]
  },
  {
   "cell_type": "code",
   "execution_count": null,
   "id": "acd6b624",
   "metadata": {},
   "outputs": [],
   "source": []
  },
  {
   "cell_type": "code",
   "execution_count": null,
   "id": "9228aeef",
   "metadata": {},
   "outputs": [],
   "source": []
  },
  {
   "cell_type": "code",
   "execution_count": null,
   "id": "e4b977e1",
   "metadata": {},
   "outputs": [],
   "source": []
  },
  {
   "cell_type": "code",
   "execution_count": null,
   "id": "05e39a8e",
   "metadata": {},
   "outputs": [],
   "source": []
  }
 ],
 "metadata": {
  "kernelspec": {
   "display_name": "Python 3 (ipykernel)",
   "language": "python",
   "name": "python3"
  },
  "language_info": {
   "codemirror_mode": {
    "name": "ipython",
    "version": 3
   },
   "file_extension": ".py",
   "mimetype": "text/x-python",
   "name": "python",
   "nbconvert_exporter": "python",
   "pygments_lexer": "ipython3",
   "version": "3.11.10"
  }
 },
 "nbformat": 4,
 "nbformat_minor": 5
}
