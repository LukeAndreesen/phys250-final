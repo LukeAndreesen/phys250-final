{
 "cells": [
  {
   "cell_type": "code",
   "execution_count": 78,
   "id": "23f456b3",
   "metadata": {},
   "outputs": [],
   "source": [
    "import numpy as np\n",
    "from itertools import product\n"
   ]
  },
  {
   "cell_type": "code",
   "execution_count": 79,
   "id": "2ed9dce3",
   "metadata": {},
   "outputs": [
    {
     "name": "stdout",
     "output_type": "stream",
     "text": [
      "[[0.15005067 0.61103358 0.71358537 0.41028108 0.73298685]\n",
      " [0.92085189 0.02754327 0.43298144 0.67761797 0.7430438 ]\n",
      " [0.98877682 0.88635377 0.82531773 0.58600132 0.63754181]\n",
      " [0.08416054 0.57826972 0.5752686  0.22545874 0.32396492]\n",
      " [0.0883358  0.93502254 0.51214525 0.30915861 0.025513  ]]\n"
     ]
    }
   ],
   "source": [
    "h = np.load('h_5_5.npy')\n",
    "print(h)"
   ]
  },
  {
   "cell_type": "code",
   "execution_count": 80,
   "id": "561d0acf",
   "metadata": {},
   "outputs": [],
   "source": [
    "def compute_energy(h, config, J=1):\n",
    "    n, m = h.shape\n",
    "    energy = 0\n",
    "\n",
    "    # Compute interaction energy with periodic boundaries\n",
    "    for i in range(n):\n",
    "        for j in range(m):\n",
    "            s = config[i, j]\n",
    "            # Consider only \"right\" and \"down\" neighbors to avoid double counting\n",
    "            neighbors = [\n",
    "                config[(i + 1) % n, j],  # Down\n",
    "                config[i, (j + 1) % m]   # Right\n",
    "            ]\n",
    "            energy -= J * s * sum(neighbors)\n",
    "    \n",
    "    # Compute interaction with the external magnetic field\n",
    "    energy -= np.sum(h * config)\n",
    "    return energy\n"
   ]
  },
  {
   "cell_type": "code",
   "execution_count": 81,
   "id": "b073ff17",
   "metadata": {},
   "outputs": [],
   "source": [
    "def all_possible_energies(field, J=1):\n",
    "    n, m = field.shape\n",
    "    num_sites = n * m\n",
    "\n",
    "    # Generate all possible configurations\n",
    "    energies = {}\n",
    "    for binary_config in product([1, -1], repeat=num_sites):\n",
    "        config = np.array(binary_config).reshape((n, m))\n",
    "        energy = compute_energy(h, config, J)\n",
    "        energies[energy] = config\n",
    "    \n",
    "    return energies"
   ]
  },
  {
   "cell_type": "code",
   "execution_count": null,
   "id": "913674c3",
   "metadata": {},
   "outputs": [],
   "source": [
    "energies = all_possible_energies(h)\n",
    "min_energy = min(energies.keys())\n",
    "min_energy_config = energies[min_energy]\n",
    "print(min_energy_config)\n",
    "print(min_energy)"
   ]
  },
  {
   "cell_type": "code",
   "execution_count": null,
   "id": "08842123",
   "metadata": {},
   "outputs": [],
   "source": []
  },
  {
   "cell_type": "code",
   "execution_count": null,
   "id": "79cd498a",
   "metadata": {},
   "outputs": [],
   "source": []
  }
 ],
 "metadata": {
  "kernelspec": {
   "display_name": "Python 3 (ipykernel)",
   "language": "python",
   "name": "python3"
  },
  "language_info": {
   "codemirror_mode": {
    "name": "ipython",
    "version": 3
   },
   "file_extension": ".py",
   "mimetype": "text/x-python",
   "name": "python",
   "nbconvert_exporter": "python",
   "pygments_lexer": "ipython3",
   "version": "3.11.10"
  }
 },
 "nbformat": 4,
 "nbformat_minor": 5
}
