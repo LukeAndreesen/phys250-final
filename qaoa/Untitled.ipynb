{
 "cells": [
  {
   "cell_type": "code",
   "execution_count": null,
   "id": "cb9be45b",
   "metadata": {},
   "outputs": [],
   "source": [
    "import numpy as np\n",
    "from ising import solve_ising\n",
    "\n",
    "def find_ground_state(h):\n",
    "    \"\"\"\n",
    "    Find the ground state of an Ising model given by an nxm numpy array.\n",
    "    \n",
    "    Parameters:\n",
    "        h (numpy.ndarray): An nxm array representing the local fields for each spin.\n",
    "    \n",
    "    Returns:\n",
    "        tuple: (ground_state, ground_energy)\n",
    "            - ground_state: A 2D numpy array with the spin configuration (-1 or 1).\n",
    "            - ground_energy: The energy of the ground state.\n",
    "    \"\"\"\n",
    "    n_rows, n_cols = h.shape\n",
    "\n",
    "    # Define the coupling matrix (nearest-neighbor couplings)\n",
    "    J = {}\n",
    "    coupling_strength = -1  # Default ferromagnetic interaction (-1)\n",
    "\n",
    "    # Define horizontal couplings (within rows)\n",
    "    for row in range(n_rows):\n",
    "        for col in range(n_cols - 1):\n",
    "            idx_1 = row * n_cols + col\n",
    "            idx_2 = row * n_cols + (col + 1)\n",
    "            J[(idx_1, idx_2)] = coupling_strength\n",
    "\n",
    "    # Define vertical couplings (between rows)\n",
    "    for row in range(n_rows - 1):\n",
    "        for col in range(n_cols):\n",
    "            idx_1 = row * n_cols + col\n",
    "            idx_2 = (row + 1) * n_cols + col\n",
    "            J[(idx_1, idx_2)] = coupling_strength\n",
    "\n",
    "    # Flatten the 2D local fields array into 1D\n",
    "    h_flat = h.flatten()\n",
    "\n",
    "    # Solve the Ising model using the library\n",
    "    ground_energy, ground_state_flat = solve_ising(h_flat, J)\n",
    "\n",
    "    # Reshape the ground state back to 2D\n",
    "    ground_state = np.array(ground_state_flat).reshape(n_rows, n_cols)\n",
    "\n",
    "    return ground_state, ground_energy\n",
    "\n",
    "# Example Usage:\n",
    "h = np.array([[0.1, -0.2], [0.3, -0.4]])  # Example local fields for a 2x2 grid\n",
    "ground_state, ground_energy = find_ground_state(h)\n",
    "\n",
    "print(\"Ground State Configuration:\\n\", ground_state)\n",
    "print(\"Ground State Energy:\", ground_energy)\n"
   ]
  }
 ],
 "metadata": {
  "kernelspec": {
   "display_name": "Python 3 (ipykernel)",
   "language": "python",
   "name": "python3"
  },
  "language_info": {
   "codemirror_mode": {
    "name": "ipython",
    "version": 3
   },
   "file_extension": ".py",
   "mimetype": "text/x-python",
   "name": "python",
   "nbconvert_exporter": "python",
   "pygments_lexer": "ipython3",
   "version": "3.11.10"
  }
 },
 "nbformat": 4,
 "nbformat_minor": 5
}
