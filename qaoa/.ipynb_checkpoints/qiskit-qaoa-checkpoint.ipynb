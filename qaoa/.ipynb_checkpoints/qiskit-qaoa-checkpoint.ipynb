{
 "cells": [
  {
   "cell_type": "code",
   "execution_count": 33,
   "id": "c9f4aadc",
   "metadata": {},
   "outputs": [],
   "source": [
    "import qiskit\n",
    "import numpy as np\n",
    "from qiskit import QuantumCircuit, QuantumRegister, ClassicalRegister\n",
    "from qiskit_aer import AerSimulator\n",
    "\n",
    "from qiskit.compiler import transpile\n",
    "from qiskit.circuit import Parameter\n",
    "\n",
    "from qiskit.quantum_info import Statevector\n",
    "from qiskit.circuit import Parameter\n",
    "import matplotlib.pyplot as plt\n"
   ]
  },
  {
   "cell_type": "code",
   "execution_count": 34,
   "id": "d3596758",
   "metadata": {},
   "outputs": [
    {
     "name": "stdout",
     "output_type": "stream",
     "text": [
      "               \n",
      "q_0: ─■────────\n",
      "      │ZZ(0.3) \n",
      "q_1: ─■────────\n",
      "               \n"
     ]
    }
   ],
   "source": [
    "qc = QuantumCircuit(2)\n",
    "gamma = 0.3\n",
    "qc.rzz(.3, 0, 1)\n",
    "print(qc)"
   ]
  },
  {
   "cell_type": "code",
   "execution_count": 35,
   "id": "54232c05",
   "metadata": {},
   "outputs": [],
   "source": [
    "# define problem\n",
    "n_rows = 3\n",
    "n_cols = 3\n",
    "\n",
    "# Set external magnetic field at each site\n",
    "h = 0.5\n",
    "field = h * np.ones((n_rows, n_cols))\n",
    "\n",
    "\n",
    "# Create a quantum register with enough qubits for the grid\n",
    "\n",
    "qr = QuantumRegister(n_rows * n_cols)\n",
    "cr = ClassicalRegister(n_rows * n_cols)\n",
    "qc = QuantumCircuit(qr)\n",
    "\n",
    "# Map the qubits into a 2D grid to represent Ising model\n",
    "qubits = [[qr[i * n_cols + j] for j in range(n_cols)] for i in range(n_rows)]\n",
    "qubits = np.array(qubits)\n"
   ]
  },
  {
   "cell_type": "code",
   "execution_count": 36,
   "id": "afd92876",
   "metadata": {},
   "outputs": [],
   "source": [
    "def prepare_circuit(qc, qubits):\n",
    "    n_rows, n_cols = qubits.shape\n",
    "    for row in range(n_rows):\n",
    "        for col in range(n_cols):\n",
    "            qc.h(qubits[row, col])"
   ]
  },
  {
   "cell_type": "code",
   "execution_count": 37,
   "id": "3050042b",
   "metadata": {},
   "outputs": [],
   "source": [
    "def apply_gamma_unitary(qc, qubits, mag_field, gamma):\n",
    "    n_rows, n_cols = mag_field.shape\n",
    "    for row in range(n_rows):\n",
    "        for col in range(n_cols):\n",
    "            if row < n_rows - 1:\n",
    "                qc.rzz(gamma, qubits[row, col], qubits[row + 1, col])\n",
    "            if col < n_cols - 1:\n",
    "                qc.rzz(gamma, qubits[row, col], qubits[row, col + 1])\n",
    "            qc.rz(gamma * mag_field[row, col], qubits[row, col])"
   ]
  },
  {
   "cell_type": "code",
   "execution_count": 38,
   "id": "e3077907",
   "metadata": {},
   "outputs": [],
   "source": [
    "def apply_beta_unitary(qc, qubits, beta):\n",
    "    n_rows, n_cols = qubits.shape\n",
    "    for row in range(n_rows):\n",
    "        for col in range(n_cols):\n",
    "            qc.rx(beta, qubits[row, col])"
   ]
  },
  {
   "cell_type": "code",
   "execution_count": 39,
   "id": "c69f693f",
   "metadata": {},
   "outputs": [],
   "source": [
    "def apply_measurements(qc, qubits):\n",
    "    n_rows, n_cols = qubits.shape\n",
    "    for row in range(n_rows):\n",
    "        for col in range(n_cols):\n",
    "            qc.measure(qubits[row, col])"
   ]
  },
  {
   "cell_type": "code",
   "execution_count": 40,
   "id": "635634e7",
   "metadata": {},
   "outputs": [
    {
     "ename": "NameError",
     "evalue": "name 'simulator' is not defined",
     "output_type": "error",
     "traceback": [
      "\u001b[0;31m---------------------------------------------------------------------------\u001b[0m",
      "\u001b[0;31mNameError\u001b[0m                                 Traceback (most recent call last)",
      "Cell \u001b[0;32mIn[40], line 40\u001b[0m\n\u001b[1;32m     38\u001b[0m beta_value \u001b[38;5;241m=\u001b[39m \u001b[38;5;241m.3\u001b[39m\n\u001b[1;32m     39\u001b[0m bound_circuit \u001b[38;5;241m=\u001b[39m qc\u001b[38;5;241m.\u001b[39massign_parameters({\u001b[38;5;124m\"\u001b[39m\u001b[38;5;124mgamma\u001b[39m\u001b[38;5;124m\"\u001b[39m: gamma_value, \u001b[38;5;124m\"\u001b[39m\u001b[38;5;124mbeta\u001b[39m\u001b[38;5;124m\"\u001b[39m: beta_value})\n\u001b[0;32m---> 40\u001b[0m transpiled_circuit \u001b[38;5;241m=\u001b[39m transpile(bound_circuit, \u001b[43msimulator\u001b[49m)\n\u001b[1;32m     42\u001b[0m bound_circuit\u001b[38;5;241m.\u001b[39mdraw(\u001b[38;5;124m'\u001b[39m\u001b[38;5;124mmpl\u001b[39m\u001b[38;5;124m'\u001b[39m)\n",
      "\u001b[0;31mNameError\u001b[0m: name 'simulator' is not defined"
     ]
    }
   ],
   "source": [
    "# define problem\n",
    "n_rows = 3\n",
    "n_cols = 3\n",
    "gamma = 0.3\n",
    "beta = 0.7\n",
    "\n",
    "gamma_param = Parameter(\"gamma\")\n",
    "beta_param = Parameter(\"beta\")\n",
    "\n",
    "# Set external magnetic field at each site\n",
    "h = 0.5\n",
    "h_field = h * np.ones((n_rows, n_cols))\n",
    "\n",
    "\n",
    "# Create a quantum register with enough qubits for the grid\n",
    "\n",
    "qr = QuantumRegister(n_rows * n_cols)\n",
    "\n",
    "qc = QuantumCircuit(qr)\n",
    "# Map the qubits into a 2D grid to represent Ising model\n",
    "qubits = [[qr[i * n_cols + j] for j in range(n_cols)] for i in range(n_rows)]\n",
    "qubits = np.array(qubits)\n",
    "\n",
    "prepare_circuit(qc, qubits)\n",
    "apply_gamma_unitary(qc, qubits, h_field, gamma_param)  # Use gamma_param\n",
    "apply_beta_unitary(qc, qubits, beta_param)          # Use beta_param\n",
    "\n",
    "#measurement_qc = qc.copy()\n",
    "#apply_measurements(measurement_qc, qubits)\n",
    "\n",
    "\n",
    "qc.save_statevector()\n",
    "#measurement_qc.save_statevector()\n",
    "\n",
    "\n",
    "\n",
    "gamma_value = .2\n",
    "beta_value = .3\n",
    "bound_circuit = qc.assign_parameters({\"gamma\": gamma_value, \"beta\": beta_value})\n",
    "transpiled_circuit = transpile(bound_circuit, simulator)\n",
    "\n",
    "bound_circuit.draw('mpl')\n"
   ]
  },
  {
   "cell_type": "code",
   "execution_count": 20,
   "id": "416eddb6",
   "metadata": {},
   "outputs": [],
   "source": [
    "## Now we must find optimal values of params \n",
    "def energy_from_wavefunction(wf, h):\n",
    "    \"\"\"Computes the energy-per-site of the Ising model directly from the\n",
    "    a given wavefunction.\n",
    "\n",
    "    Args:\n",
    "        wf: Array of size 2**(n_rows * n_cols) specifying the wavefunction.\n",
    "        h: Array of shape (n_rows, n_cols) giving the magnetic field values.\n",
    "\n",
    "    Returns:\n",
    "        energy: Float equal to the expectation value of the energy per site\n",
    "    \"\"\"\n",
    "    n_sites = n_rows * n_cols\n",
    "\n",
    "    # Z is an array of shape (n_sites, 2**n_sites). Each row consists of the\n",
    "    # 2**n_sites non-zero entries in the operator that is the Pauli-Z matrix on\n",
    "    # one of the qubits times the identities on the other qubits. The\n",
    "    # (i*n_cols + j)th row corresponds to qubit (i,j).\n",
    "    Z = np.array(\n",
    "        [(-1) ** (np.arange(2**n_sites) >> i) for i in range(n_sites - 1, -1, -1)]\n",
    "    )\n",
    "\n",
    "    # Create the operator corresponding to the interaction energy summed over all\n",
    "    # nearest-neighbor pairs of qubits\n",
    "    ZZ_filter = np.zeros_like(wf, dtype=float)\n",
    "    for i in range(n_rows):\n",
    "        for j in range(n_cols):\n",
    "            if i < n_rows - 1:\n",
    "                ZZ_filter += Z[i * n_cols + j] * Z[(i + 1) * n_cols + j]\n",
    "            if j < n_cols - 1:\n",
    "                ZZ_filter += Z[i * n_cols + j] * Z[i * n_cols + (j + 1)]\n",
    "\n",
    "    energy_operator = -ZZ_filter - h.reshape(n_sites).dot(Z)\n",
    "\n",
    "    # Expectation value of the energy divided by the number of sites\n",
    "    return np.sum(np.abs(wf) ** 2 * energy_operator) / n_sites"
   ]
  },
  {
   "cell_type": "code",
   "execution_count": 21,
   "id": "48518076",
   "metadata": {},
   "outputs": [],
   "source": [
    "def energy_from_params(\n",
    "    gamma_value, beta_value: float, qaoa: QuantumCircuit, h: np.ndarray, display\n",
    ") -> float:\n",
    "    \"\"\"Returns the energy given values of the parameters.\"\"\"\n",
    "    bound_circuit = qaoa.assign_parameters({\"gamma\": gamma_value, \"beta\": beta_value})\n",
    "    if (display):\n",
    "        print(bound_circuit)\n",
    "    # Simulate the circuit to get the final wavefunction\n",
    "    simulator = AerSimulator(method=\"statevector\")\n",
    "    transpiled_circuit = transpile(bound_circuit, simulator)\n",
    "    result = simulator.run(transpiled_circuit).result()\n",
    "    final_state = result.get_statevector()\n",
    "    if (display):\n",
    "        print(final_state)\n",
    "    \n",
    "    # Compute energy using the energy_from_wavefunction function\n",
    "    return energy_from_wavefunction(final_state, h)"
   ]
  },
  {
   "cell_type": "code",
   "execution_count": 22,
   "id": "b47fd622",
   "metadata": {
    "scrolled": true
   },
   "outputs": [
    {
     "ename": "QiskitError",
     "evalue": "'No statevector for experiment \"None\"'",
     "output_type": "error",
     "traceback": [
      "\u001b[0;31m---------------------------------------------------------------------------\u001b[0m",
      "\u001b[0;31mKeyError\u001b[0m                                  Traceback (most recent call last)",
      "File \u001b[0;32m/opt/homebrew/lib/python3.11/site-packages/qiskit/result/result.py:309\u001b[0m, in \u001b[0;36mResult.get_statevector\u001b[0;34m(self, experiment, decimals)\u001b[0m\n\u001b[1;32m    307\u001b[0m \u001b[38;5;28;01mtry\u001b[39;00m:\n\u001b[1;32m    308\u001b[0m     \u001b[38;5;28;01mreturn\u001b[39;00m postprocess\u001b[38;5;241m.\u001b[39mformat_statevector(\n\u001b[0;32m--> 309\u001b[0m         \u001b[38;5;28;43mself\u001b[39;49m\u001b[38;5;241;43m.\u001b[39;49m\u001b[43mdata\u001b[49m\u001b[43m(\u001b[49m\u001b[43mexperiment\u001b[49m\u001b[43m)\u001b[49m\u001b[43m[\u001b[49m\u001b[38;5;124;43m\"\u001b[39;49m\u001b[38;5;124;43mstatevector\u001b[39;49m\u001b[38;5;124;43m\"\u001b[39;49m\u001b[43m]\u001b[49m, decimals\u001b[38;5;241m=\u001b[39mdecimals\n\u001b[1;32m    310\u001b[0m     )\n\u001b[1;32m    311\u001b[0m \u001b[38;5;28;01mexcept\u001b[39;00m \u001b[38;5;167;01mKeyError\u001b[39;00m \u001b[38;5;28;01mas\u001b[39;00m ex:\n",
      "\u001b[0;31mKeyError\u001b[0m: 'statevector'",
      "\nThe above exception was the direct cause of the following exception:\n",
      "\u001b[0;31mQiskitError\u001b[0m                               Traceback (most recent call last)",
      "Cell \u001b[0;32mIn[22], line 15\u001b[0m\n\u001b[1;32m     13\u001b[0m \u001b[38;5;28;01melse\u001b[39;00m:\n\u001b[1;32m     14\u001b[0m     display \u001b[38;5;241m=\u001b[39m \u001b[38;5;28;01mFalse\u001b[39;00m\n\u001b[0;32m---> 15\u001b[0m energies[i, j] \u001b[38;5;241m=\u001b[39m \u001b[43menergy_from_params\u001b[49m\u001b[43m(\u001b[49m\n\u001b[1;32m     16\u001b[0m \u001b[43m    \u001b[49m\u001b[43mi\u001b[49m\u001b[43m \u001b[49m\u001b[38;5;241;43m*\u001b[39;49m\u001b[43m \u001b[49m\u001b[43mgamma_max\u001b[49m\u001b[43m \u001b[49m\u001b[38;5;241;43m/\u001b[39;49m\u001b[43m \u001b[49m\u001b[43mgrid_size\u001b[49m\u001b[43m,\u001b[49m\u001b[43m \u001b[49m\u001b[43mj\u001b[49m\u001b[43m \u001b[49m\u001b[38;5;241;43m*\u001b[39;49m\u001b[43m \u001b[49m\u001b[43mbeta_max\u001b[49m\u001b[43m \u001b[49m\u001b[38;5;241;43m/\u001b[39;49m\u001b[43m \u001b[49m\u001b[43mgrid_size\u001b[49m\u001b[43m,\u001b[49m\u001b[43m \u001b[49m\u001b[43mqc\u001b[49m\u001b[43m,\u001b[49m\u001b[43m \u001b[49m\u001b[43mh_field\u001b[49m\u001b[43m,\u001b[49m\u001b[43m \u001b[49m\u001b[43mdisplay\u001b[49m\n\u001b[1;32m     17\u001b[0m \u001b[43m\u001b[49m\u001b[43m)\u001b[49m\n",
      "Cell \u001b[0;32mIn[21], line 12\u001b[0m, in \u001b[0;36menergy_from_params\u001b[0;34m(gamma_value, beta_value, qaoa, h, display)\u001b[0m\n\u001b[1;32m     10\u001b[0m transpiled_circuit \u001b[38;5;241m=\u001b[39m transpile(bound_circuit, simulator)\n\u001b[1;32m     11\u001b[0m result \u001b[38;5;241m=\u001b[39m simulator\u001b[38;5;241m.\u001b[39mrun(transpiled_circuit)\u001b[38;5;241m.\u001b[39mresult()\n\u001b[0;32m---> 12\u001b[0m final_state \u001b[38;5;241m=\u001b[39m \u001b[43mresult\u001b[49m\u001b[38;5;241;43m.\u001b[39;49m\u001b[43mget_statevector\u001b[49m\u001b[43m(\u001b[49m\u001b[43m)\u001b[49m\n\u001b[1;32m     13\u001b[0m \u001b[38;5;28;01mif\u001b[39;00m (display):\n\u001b[1;32m     14\u001b[0m     \u001b[38;5;28mprint\u001b[39m(final_state)\n",
      "File \u001b[0;32m/opt/homebrew/lib/python3.11/site-packages/qiskit/result/result.py:312\u001b[0m, in \u001b[0;36mResult.get_statevector\u001b[0;34m(self, experiment, decimals)\u001b[0m\n\u001b[1;32m    308\u001b[0m     \u001b[38;5;28;01mreturn\u001b[39;00m postprocess\u001b[38;5;241m.\u001b[39mformat_statevector(\n\u001b[1;32m    309\u001b[0m         \u001b[38;5;28mself\u001b[39m\u001b[38;5;241m.\u001b[39mdata(experiment)[\u001b[38;5;124m\"\u001b[39m\u001b[38;5;124mstatevector\u001b[39m\u001b[38;5;124m\"\u001b[39m], decimals\u001b[38;5;241m=\u001b[39mdecimals\n\u001b[1;32m    310\u001b[0m     )\n\u001b[1;32m    311\u001b[0m \u001b[38;5;28;01mexcept\u001b[39;00m \u001b[38;5;167;01mKeyError\u001b[39;00m \u001b[38;5;28;01mas\u001b[39;00m ex:\n\u001b[0;32m--> 312\u001b[0m     \u001b[38;5;28;01mraise\u001b[39;00m QiskitError(\u001b[38;5;124mf\u001b[39m\u001b[38;5;124m'\u001b[39m\u001b[38;5;124mNo statevector for experiment \u001b[39m\u001b[38;5;124m\"\u001b[39m\u001b[38;5;132;01m{\u001b[39;00m\u001b[38;5;28mrepr\u001b[39m(experiment)\u001b[38;5;132;01m}\u001b[39;00m\u001b[38;5;124m\"\u001b[39m\u001b[38;5;124m'\u001b[39m) \u001b[38;5;28;01mfrom\u001b[39;00m \u001b[38;5;21;01mex\u001b[39;00m\n",
      "\u001b[0;31mQiskitError\u001b[0m: 'No statevector for experiment \"None\"'"
     ]
    }
   ],
   "source": [
    "\"\"\"Do a grid search over values of 𝛄 and β.\"\"\"\n",
    "# Set the grid size and range of parameters.\n",
    "grid_size = 50\n",
    "gamma_max = 2\n",
    "beta_max = 2\n",
    "\n",
    "# Do the grid search.\n",
    "energies = np.zeros((grid_size, grid_size))\n",
    "for i in range(grid_size):\n",
    "    for j in range(grid_size):\n",
    "        if (i == 1 and j == 1):\n",
    "            display = True\n",
    "        else:\n",
    "            display = False\n",
    "        energies[i, j] = energy_from_params(\n",
    "            i * gamma_max / grid_size, j * beta_max / grid_size, qc, h_field, display\n",
    "        )"
   ]
  },
  {
   "cell_type": "code",
   "execution_count": 23,
   "id": "d93d6626",
   "metadata": {},
   "outputs": [
    {
     "data": {
      "image/png": "[encoded data removed]",
      "text/plain": [
       "<Figure size 640x480 with 2 Axes>"
      ]
     },
     "metadata": {},
     "output_type": "display_data"
    }
   ],
   "source": [
    "\"\"\"Plot the energy as a function of the parameters 𝛄 and β found in the grid search.\"\"\"\n",
    "import matplotlib.pyplot as plt\n",
    "\n",
    "plt.ylabel(r\"$\\gamma$\")\n",
    "plt.xlabel(r\"$\\beta$\")\n",
    "plt.title(\"Energy as a function of parameters\")\n",
    "plt.imshow(energies, extent=(0, beta_max, gamma_max, 0))\n",
    "plt.colorbar()\n",
    "plt.show()"
   ]
  },
  {
   "cell_type": "code",
   "execution_count": null,
   "id": "d3a1ad61",
   "metadata": {},
   "outputs": [],
   "source": [
    "gamma_value = gamma\n",
    "beta_value = beta\n",
    "\n",
    "bound_circuit = qc.assign_parameters({gamma_param: gamma, beta_param: beta})\n",
    "\n",
    "# Submit to the Estimator\n",
    "parameter_values = [[gamma_value, beta_value]]\n",
    "job = estimator.run(bound_circuit)\n",
    "print(\"Result:\", result)"
   ]
  },
  {
   "cell_type": "code",
   "execution_count": null,
   "id": "5d9a96e2",
   "metadata": {},
   "outputs": [],
   "source": []
  },
  {
   "cell_type": "code",
   "execution_count": null,
   "id": "ff29e2aa",
   "metadata": {},
   "outputs": [],
   "source": []
  },
  {
   "cell_type": "code",
   "execution_count": null,
   "id": "55528691",
   "metadata": {},
   "outputs": [],
   "source": []
  }
 ],
 "metadata": {
  "kernelspec": {
   "display_name": "Python 3 (ipykernel)",
   "language": "python",
   "name": "python3"
  },
  "language_info": {
   "codemirror_mode": {
    "name": "ipython",
    "version": 3
   },
   "file_extension": ".py",
   "mimetype": "text/x-python",
   "name": "python",
   "nbconvert_exporter": "python",
   "pygments_lexer": "ipython3",
   "version": "3.11.10"
  }
 },
 "nbformat": 4,
 "nbformat_minor": 5
}
