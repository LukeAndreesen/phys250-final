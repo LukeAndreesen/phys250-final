{
 "cells": [
  {
   "cell_type": "code",
   "execution_count": 83,
   "id": "a83cc40a",
   "metadata": {},
   "outputs": [],
   "source": [
    "import numpy as np\n",
    "from itertools import product\n"
   ]
  },
  {
   "cell_type": "code",
   "execution_count": 84,
   "id": "0a73b2f9",
   "metadata": {},
   "outputs": [
    {
     "name": "stdout",
     "output_type": "stream",
     "text": [
      "[[0.07616571 0.64765973]\n",
      " [0.60256995 0.36999746]]\n"
     ]
    }
   ],
   "source": [
    "h = np.load('h_2_2.npy')\n",
    "print(h)"
   ]
  },
  {
   "cell_type": "code",
   "execution_count": 103,
   "id": "45725297",
   "metadata": {},
   "outputs": [],
   "source": [
    "def compute_energy(h, config, J=1):\n",
    "    n, m = h.shape\n",
    "    energy = 0\n",
    "\n",
    "    # Compute interaction energy with periodic boundaries\n",
    "    for i in range(n):\n",
    "        for j in range(m):\n",
    "            s = config[i, j]\n",
    "            # Consider only \"right\" and \"down\" neighbors to avoid double counting\n",
    "            neighbors = [\n",
    "                config[(i + 1) % n, j],  # Down\n",
    "                config[i, (j + 1) % m]   # Right\n",
    "            ]\n",
    "            energy -= J * s * sum(neighbors)\n",
    "            print(energy)\n",
    "    \n",
    "    # Compute interaction with the external magnetic field\n",
    "    energy -= np.sum(h * config)\n",
    "    print(\"\\n\")\n",
    "    return energy\n"
   ]
  },
  {
   "cell_type": "code",
   "execution_count": 104,
   "id": "2fa51d21",
   "metadata": {},
   "outputs": [],
   "source": [
    "def all_possible_energies(field, J=1):\n",
    "    n, m = field.shape\n",
    "    num_sites = n * m\n",
    "\n",
    "    # Generate all possible configurations\n",
    "    energies = {}\n",
    "    for binary_config in product([1, -1], repeat=num_sites):\n",
    "        config = np.array(binary_config).reshape((n, m))\n",
    "        energy = compute_energy(h, config, J)\n",
    "        energies[energy] = config\n",
    "    \n",
    "    return energies"
   ]
  },
  {
   "cell_type": "code",
   "execution_count": 105,
   "id": "08d682ee",
   "metadata": {},
   "outputs": [
    {
     "name": "stdout",
     "output_type": "stream",
     "text": [
      "-1.0\n",
      "-2.0\n",
      "-3.0\n",
      "-4.0\n",
      "\n",
      "\n",
      "-1.0\n",
      "-1.0\n",
      "-1.0\n",
      "0.0\n",
      "\n",
      "\n",
      "0.0\n",
      "-1.0\n",
      "0.0\n",
      "0.0\n",
      "\n",
      "\n",
      "0.0\n",
      "0.0\n",
      "0.0\n",
      "0.0\n",
      "\n",
      "\n",
      "0.0\n",
      "1.0\n",
      "0.0\n",
      "0.0\n",
      "\n",
      "\n",
      "0.0\n",
      "0.0\n",
      "0.0\n",
      "0.0\n",
      "\n",
      "\n",
      "1.0\n",
      "2.0\n",
      "3.0\n",
      "4.0\n",
      "\n",
      "\n",
      "1.0\n",
      "1.0\n",
      "1.0\n",
      "0.0\n",
      "\n",
      "\n",
      "1.0\n",
      "1.0\n",
      "1.0\n",
      "0.0\n",
      "\n",
      "\n",
      "1.0\n",
      "2.0\n",
      "3.0\n",
      "4.0\n",
      "\n",
      "\n",
      "0.0\n",
      "0.0\n",
      "0.0\n",
      "0.0\n",
      "\n",
      "\n",
      "0.0\n",
      "1.0\n",
      "0.0\n",
      "0.0\n",
      "\n",
      "\n",
      "0.0\n",
      "0.0\n",
      "0.0\n",
      "0.0\n",
      "\n",
      "\n",
      "0.0\n",
      "-1.0\n",
      "0.0\n",
      "0.0\n",
      "\n",
      "\n",
      "-1.0\n",
      "-1.0\n",
      "-1.0\n",
      "0.0\n",
      "\n",
      "\n",
      "-1.0\n",
      "-2.0\n",
      "-3.0\n",
      "-4.0\n",
      "\n",
      "\n",
      "[[1 1]\n",
      " [1 1]]\n",
      "-5.69639284720026\n",
      "{-5.69639284720026: array([[1, 1],\n",
      "       [1, 1]]), -0.9563979287842447: array([[ 1,  1],\n",
      "       [ 1, -1]]), -0.49125294883800374: array([[ 1,  1],\n",
      "       [-1,  1]]), 0.24874196957801153: array([[ 1,  1],\n",
      "       [-1, -1]]), -0.4010733839885958: array([[ 1, -1],\n",
      "       [ 1,  1]]), 0.33892153442741946: array([[ 1, -1],\n",
      "       [ 1, -1]]), 4.804066514373661: array([[ 1, -1],\n",
      "       [-1,  1]]), 1.5440614327896758: array([[ 1, -1],\n",
      "       [-1, -1]]), -1.5440614327896758: array([[-1,  1],\n",
      "       [ 1,  1]]), 3.1959334856263397: array([[-1,  1],\n",
      "       [ 1, -1]]), -0.33892153442741946: array([[-1,  1],\n",
      "       [-1,  1]]), 0.4010733839885958: array([[-1,  1],\n",
      "       [-1, -1]]), -0.24874196957801153: array([[-1, -1],\n",
      "       [ 1,  1]]), 0.49125294883800374: array([[-1, -1],\n",
      "       [ 1, -1]]), 0.9563979287842447: array([[-1, -1],\n",
      "       [-1,  1]]), -2.30360715279974: array([[-1, -1],\n",
      "       [-1, -1]])}\n"
     ]
    }
   ],
   "source": [
    "energies = all_possible_energies(h, J=0.5)\n",
    "min_energy = min(energies.keys())\n",
    "min_energy_config = energies[min_energy]\n",
    "print(min_energy_config)\n",
    "print(min_energy)\n",
    "print(energies)"
   ]
  },
  {
   "cell_type": "code",
   "execution_count": null,
   "id": "e91a0885",
   "metadata": {},
   "outputs": [],
   "source": []
  },
  {
   "cell_type": "code",
   "execution_count": 94,
   "id": "03cdbd32",
   "metadata": {},
   "outputs": [],
   "source": [
    "import numpy as np\n",
    "\n",
    "def calculate_ising_energy(configuration, J, H, periodic=True):\n",
    "    \"\"\"\n",
    "    Calculate the total energy of an Ising model.\n",
    "    \n",
    "    Parameters:\n",
    "    configuration (np.ndarray): An n x m matrix representing the spin configuration (+1 or -1).\n",
    "    J (float): Coupling constant.\n",
    "    H (np.ndarray): An n x m matrix representing the magnetic field at each point.\n",
    "    periodic (bool): If True (default), apply periodic boundary conditions; otherwise, use non-periodic boundaries.\n",
    "    \n",
    "    Returns:\n",
    "    float: Total energy of the Ising model.\n",
    "    \"\"\"\n",
    "    # Ensure configuration and H are numpy arrays\n",
    "    configuration = np.array(configuration)\n",
    "    H = np.array(H)\n",
    "    \n",
    "    n, m = configuration.shape\n",
    "    total_energy = 0\n",
    "    \n",
    "    # Interaction energy (nearest neighbors)\n",
    "    for i in range(n):\n",
    "        for j in range(m):\n",
    "            spin = configuration[i, j]\n",
    "            neighbors = []\n",
    "            \n",
    "            # Down neighbor\n",
    "            if i + 1 < n:\n",
    "                neighbors.append(configuration[i + 1, j])\n",
    "            elif periodic:\n",
    "                neighbors.append(configuration[(i + 1) % n, j])\n",
    "            \n",
    "            # Up neighbor\n",
    "            if i - 1 >= 0:\n",
    "                neighbors.append(configuration[i - 1, j])\n",
    "            elif periodic:\n",
    "                neighbors.append(configuration[(i - 1) % n, j])\n",
    "            \n",
    "            # Right neighbor\n",
    "            if j + 1 < m:\n",
    "                neighbors.append(configuration[i, j + 1])\n",
    "            elif periodic:\n",
    "                neighbors.append(configuration[i, (j + 1) % m])\n",
    "            \n",
    "            # Left neighbor\n",
    "            if j - 1 >= 0:\n",
    "                neighbors.append(configuration[i, j - 1])\n",
    "            elif periodic:\n",
    "                neighbors.append(configuration[i, (j - 1) % m])\n",
    "            \n",
    "            # Calculate interaction energy for this spin\n",
    "            interaction_energy = -J * spin * sum(neighbors)\n",
    "            total_energy += interaction_energy\n",
    "\n",
    "    # Magnetic field energy\n",
    "    magnetic_energy = -np.sum(H * configuration)\n",
    "    print(magnetic_energy)\n",
    "\n",
    "    # Total energy is the sum of interaction and magnetic energies\n",
    "    total_energy += magnetic_energy\n",
    "\n",
    "    # Divide by 2 because each interaction is counted twice\n",
    "    return total_energy / 2"
   ]
  },
  {
   "cell_type": "code",
   "execution_count": 95,
   "id": "29b78a75",
   "metadata": {},
   "outputs": [
    {
     "data": {
      "text/plain": [
       "array([[0.07616571, 0.64765973],\n",
       "       [0.60256995, 0.36999746]])"
      ]
     },
     "execution_count": 95,
     "metadata": {},
     "output_type": "execute_result"
    }
   ],
   "source": [
    "h"
   ]
  },
  {
   "cell_type": "code",
   "execution_count": 110,
   "id": "aa2791ec",
   "metadata": {},
   "outputs": [
    {
     "name": "stdout",
     "output_type": "stream",
     "text": [
      "0.8040665143736604\n"
     ]
    },
    {
     "data": {
      "text/plain": [
       "2.4020332571868304"
      ]
     },
     "execution_count": 110,
     "metadata": {},
     "output_type": "execute_result"
    }
   ],
   "source": [
    "configuration = np.array([[1, -1], [-1, 1]])\n",
    "calculate_ising_energy(configuration, 0.5, h, False)"
   ]
  },
  {
   "cell_type": "code",
   "execution_count": null,
   "id": "da5e38d6",
   "metadata": {},
   "outputs": [],
   "source": []
  },
  {
   "cell_type": "code",
   "execution_count": null,
   "id": "d1b0a989",
   "metadata": {},
   "outputs": [],
   "source": []
  },
  {
   "cell_type": "code",
   "execution_count": null,
   "id": "5db9e9a2",
   "metadata": {},
   "outputs": [],
   "source": []
  },
  {
   "cell_type": "code",
   "execution_count": 107,
   "id": "9352c162",
   "metadata": {},
   "outputs": [],
   "source": [
    "def neighborsSum(lattice, i, j):\n",
    "    '''\n",
    "    Sums the spins of the lattice points at four neighbor sites to site (i,j).\n",
    "        Takes into account the size of the lattice in \n",
    "        terms of number of rows (i) and columns (j),\n",
    "        thus implementing periodic boundary conditions.\n",
    "    '''\n",
    "    \n",
    "    '''\n",
    "    N, M = lattice.shape\n",
    "    latticeSum = 0\n",
    "    # upper neighbor\n",
    "    if (i > 0):\n",
    "        latticeSum += lattice[i - 1, j] \n",
    "    # lower neighbor\n",
    "    if (i < N - 1):\n",
    "        latticeSum += lattice[i + 1, j]\n",
    "    # left neighbor\n",
    "    if (j > 0):\n",
    "        latticeSum += lattice[i, j - 1]\n",
    "    if (j < M - 1):\n",
    "        latticeSum += lattice[i, j + 1]\n",
    "    return latticeSum\n",
    "    \n",
    "    '''\n",
    "    N, M = lattice.shape\n",
    "    latticeSum = 0\n",
    "\n",
    "    # Periodic boundary conditions\n",
    "    latticeSum += lattice[(i - 1) % N, j]  # upper neighbor\n",
    "    latticeSum += lattice[(i + 1) % N, j]  # lower neighbor\n",
    "    latticeSum += lattice[i, (j - 1) % M]  # left neighbor\n",
    "    latticeSum += lattice[i, (j + 1) % M]  # right neighbor\n",
    "    \n",
    "    return latticeSum"
   ]
  },
  {
   "cell_type": "code",
   "execution_count": 108,
   "id": "40f0f2e8",
   "metadata": {},
   "outputs": [],
   "source": [
    "def localEnergy(lattice, i, j, J=1):\n",
    "    '''\n",
    "    Calculate the energy contribution of a single particle\n",
    "    '''\n",
    "    neighbors_sum = neighborsSum(lattice, i, j)\n",
    "    local_spin = lattice[i, j]\n",
    "    energy = -1 * J * neighbors_sum * local_spin\n",
    "    return energy"
   ]
  },
  {
   "cell_type": "code",
   "execution_count": 113,
   "id": "eef312ca",
   "metadata": {},
   "outputs": [],
   "source": [
    "def totalEnergy(lattice, h, J=1):\n",
    "    '''\n",
    "    Calculate energy of entire lattice\n",
    "    '''\n",
    "    # Source: used https://www.geeksforgeeks.org/numpy-roll-python/ to learn about np.roll\n",
    "    energy = -J * np.sum(lattice * (np.roll(lattice, 1, axis=0) + np.roll(lattice, -1, axis=0) +\n",
    "                                     np.roll(lattice, 1, axis=1) + np.roll(lattice, -1, axis=1)))\n",
    "    \n",
    "    energy += -np.sum(h * configuration)\n",
    "    return energy / 2  # pairs are double counted, so we must divide by 2"
   ]
  },
  {
   "cell_type": "code",
   "execution_count": 114,
   "id": "1ccfc89e",
   "metadata": {},
   "outputs": [
    {
     "data": {
      "text/plain": [
       "4.40203325718683"
      ]
     },
     "execution_count": 114,
     "metadata": {},
     "output_type": "execute_result"
    }
   ],
   "source": [
    "totalEnergy(configuration, h, 0.5)"
   ]
  },
  {
   "cell_type": "code",
   "execution_count": null,
   "id": "e73999b6",
   "metadata": {},
   "outputs": [],
   "source": []
  }
 ],
 "metadata": {
  "kernelspec": {
   "display_name": "Python 3 (ipykernel)",
   "language": "python",
   "name": "python3"
  },
  "language_info": {
   "codemirror_mode": {
    "name": "ipython",
    "version": 3
   },
   "file_extension": ".py",
   "mimetype": "text/x-python",
   "name": "python",
   "nbconvert_exporter": "python",
   "pygments_lexer": "ipython3",
   "version": "3.11.10"
  }
 },
 "nbformat": 4,
 "nbformat_minor": 5
}
