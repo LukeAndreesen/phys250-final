{
 "cells": [
  {
   "cell_type": "code",
   "execution_count": 8,
   "id": "6cec9333",
   "metadata": {},
   "outputs": [],
   "source": [
    "from dwave.system.samplers import DWaveSampler\n",
    "from dwave.system.composites import EmbeddingComposite\n",
    "from matplotlib import pyplot as plt\n",
    "import networkx as nx"
   ]
  },
  {
   "cell_type": "code",
   "execution_count": 9,
   "id": "38647115",
   "metadata": {},
   "outputs": [
    {
     "ename": "NameError",
     "evalue": "name 'defaultdict' is not defined",
     "output_type": "error",
     "traceback": [
      "\u001b[0;31m---------------------------------------------------------------------------\u001b[0m",
      "\u001b[0;31mNameError\u001b[0m                                 Traceback (most recent call last)",
      "Cell \u001b[0;32mIn[9], line 9\u001b[0m\n\u001b[1;32m      4\u001b[0m G\u001b[38;5;241m.\u001b[39madd_edges_from([(\u001b[38;5;241m1\u001b[39m,\u001b[38;5;241m2\u001b[39m),(\u001b[38;5;241m1\u001b[39m,\u001b[38;5;241m3\u001b[39m),(\u001b[38;5;241m2\u001b[39m,\u001b[38;5;241m4\u001b[39m),(\u001b[38;5;241m3\u001b[39m,\u001b[38;5;241m4\u001b[39m),(\u001b[38;5;241m3\u001b[39m,\u001b[38;5;241m5\u001b[39m),(\u001b[38;5;241m4\u001b[39m,\u001b[38;5;241m5\u001b[39m)])\n\u001b[1;32m      6\u001b[0m \u001b[38;5;66;03m# ------- Set up our QUBO dictionary -------\u001b[39;00m\n\u001b[1;32m      7\u001b[0m \n\u001b[1;32m      8\u001b[0m \u001b[38;5;66;03m# Initialize our h vector, J matrix\u001b[39;00m\n\u001b[0;32m----> 9\u001b[0m h \u001b[38;5;241m=\u001b[39m \u001b[43mdefaultdict\u001b[49m(\u001b[38;5;28mint\u001b[39m)\n\u001b[1;32m     10\u001b[0m J \u001b[38;5;241m=\u001b[39m defaultdict(\u001b[38;5;28mint\u001b[39m)\n\u001b[1;32m     12\u001b[0m \u001b[38;5;66;03m# Update J matrix for every edge in the graph\u001b[39;00m\n",
      "\u001b[0;31mNameError\u001b[0m: name 'defaultdict' is not defined"
     ]
    }
   ],
   "source": [
    "G = nx.Graph()\n",
    "\n",
    "# Add edges to the graph (also adds nodes)\n",
    "G.add_edges_from([(1,2),(1,3),(2,4),(3,4),(3,5),(4,5)])\n",
    "\n",
    "# ------- Set up our QUBO dictionary -------\n",
    "\n",
    "# Initialize our h vector, J matrix\n",
    "h = defaultdict(int)\n",
    "J = defaultdict(int)\n",
    "\n",
    "# Update J matrix for every edge in the graph\n",
    "for i, j in G.edges:\n",
    "    J[(i,j)]+= 1"
   ]
  },
  {
   "cell_type": "code",
   "execution_count": 10,
   "id": "a7b8dfb8",
   "metadata": {},
   "outputs": [
    {
     "ename": "ValueError",
     "evalue": "API token not defined",
     "output_type": "error",
     "traceback": [
      "\u001b[0;31m---------------------------------------------------------------------------\u001b[0m",
      "\u001b[0;31mValueError\u001b[0m                                Traceback (most recent call last)",
      "Cell \u001b[0;32mIn[10], line 5\u001b[0m\n\u001b[1;32m      2\u001b[0m numruns \u001b[38;5;241m=\u001b[39m \u001b[38;5;241m10\u001b[39m\n\u001b[1;32m      4\u001b[0m \u001b[38;5;66;03m# Run the QUBO on the solver from your config file\u001b[39;00m\n\u001b[0;32m----> 5\u001b[0m sampler \u001b[38;5;241m=\u001b[39m EmbeddingComposite(\u001b[43mDWaveSampler\u001b[49m\u001b[43m(\u001b[49m\u001b[43m)\u001b[49m)\n\u001b[1;32m      6\u001b[0m response \u001b[38;5;241m=\u001b[39m sampler\u001b[38;5;241m.\u001b[39msample_ising(h, J,\n\u001b[1;32m      7\u001b[0m                                 chain_strength\u001b[38;5;241m=\u001b[39mchainstrength,\n\u001b[1;32m      8\u001b[0m                                 num_reads\u001b[38;5;241m=\u001b[39mnumruns,\n\u001b[1;32m      9\u001b[0m                                 label\u001b[38;5;241m=\u001b[39m\u001b[38;5;124m'\u001b[39m\u001b[38;5;124mExample - Maximum Cut Ising\u001b[39m\u001b[38;5;124m'\u001b[39m)\n\u001b[1;32m     11\u001b[0m \u001b[38;5;66;03m# ------- Print results to user -------\u001b[39;00m\n",
      "File \u001b[0;32m/opt/homebrew/lib/python3.11/site-packages/dwave/system/samplers/dwave_sampler.py:180\u001b[0m, in \u001b[0;36mDWaveSampler.__init__\u001b[0;34m(self, failover, retry_interval, **config)\u001b[0m\n\u001b[1;32m    177\u001b[0m \u001b[38;5;28mself\u001b[39m\u001b[38;5;241m.\u001b[39mretry_interval \u001b[38;5;241m=\u001b[39m retry_interval\n\u001b[1;32m    178\u001b[0m \u001b[38;5;28mself\u001b[39m\u001b[38;5;241m.\u001b[39m_solver_penalty \u001b[38;5;241m=\u001b[39m defaultdict(\u001b[38;5;28mint\u001b[39m)\n\u001b[0;32m--> 180\u001b[0m \u001b[38;5;28mself\u001b[39m\u001b[38;5;241m.\u001b[39mclient \u001b[38;5;241m=\u001b[39m \u001b[43mClient\u001b[49m\u001b[38;5;241;43m.\u001b[39;49m\u001b[43mfrom_config\u001b[49m\u001b[43m(\u001b[49m\u001b[38;5;241;43m*\u001b[39;49m\u001b[38;5;241;43m*\u001b[39;49m\u001b[43mconfig\u001b[49m\u001b[43m)\u001b[49m\n\u001b[1;32m    181\u001b[0m \u001b[38;5;28mself\u001b[39m\u001b[38;5;241m.\u001b[39msolver \u001b[38;5;241m=\u001b[39m \u001b[38;5;28mself\u001b[39m\u001b[38;5;241m.\u001b[39m_get_solver(penalty\u001b[38;5;241m=\u001b[39m\u001b[38;5;28mself\u001b[39m\u001b[38;5;241m.\u001b[39m_solver_penalty)\n",
      "File \u001b[0;32m/opt/homebrew/lib/python3.11/site-packages/dwave/cloud/client/base.py:436\u001b[0m, in \u001b[0;36mClient.from_config\u001b[0;34m(cls, config_file, profile, client, **kwargs)\u001b[0m\n\u001b[1;32m    433\u001b[0m _client \u001b[38;5;241m=\u001b[39m config\u001b[38;5;241m.\u001b[39mpop(\u001b[38;5;124m'\u001b[39m\u001b[38;5;124mclient\u001b[39m\u001b[38;5;124m'\u001b[39m, \u001b[38;5;28;01mNone\u001b[39;00m) \u001b[38;5;129;01mor\u001b[39;00m \u001b[38;5;124m'\u001b[39m\u001b[38;5;124mbase\u001b[39m\u001b[38;5;124m'\u001b[39m\n\u001b[1;32m    435\u001b[0m logger\u001b[38;5;241m.\u001b[39mdebug(\u001b[38;5;124m\"\u001b[39m\u001b[38;5;124mCreating \u001b[39m\u001b[38;5;132;01m%s\u001b[39;00m\u001b[38;5;124m.Client() with: \u001b[39m\u001b[38;5;132;01m%r\u001b[39;00m\u001b[38;5;124m\"\u001b[39m, _client, config)\n\u001b[0;32m--> 436\u001b[0m \u001b[38;5;28;01mreturn\u001b[39;00m \u001b[43m_clients\u001b[49m\u001b[43m[\u001b[49m\u001b[43m_client\u001b[49m\u001b[43m]\u001b[49m\u001b[43m(\u001b[49m\u001b[38;5;241;43m*\u001b[39;49m\u001b[38;5;241;43m*\u001b[39;49m\u001b[43mconfig\u001b[49m\u001b[43m)\u001b[49m\n",
      "File \u001b[0;32m/opt/homebrew/lib/python3.11/site-packages/dwave/cloud/events.py:109\u001b[0m, in \u001b[0;36mdispatches_events.__call__.<locals>.wrapped\u001b[0;34m(*pargs, **kwargs)\u001b[0m\n\u001b[1;32m    104\u001b[0m \u001b[38;5;129m@wraps\u001b[39m(fn)\n\u001b[1;32m    105\u001b[0m \u001b[38;5;28;01mdef\u001b[39;00m \u001b[38;5;21mwrapped\u001b[39m(\u001b[38;5;241m*\u001b[39mpargs, \u001b[38;5;241m*\u001b[39m\u001b[38;5;241m*\u001b[39mkwargs):\n\u001b[1;32m    106\u001b[0m     \u001b[38;5;28;01mif\u001b[39;00m \u001b[38;5;129;01mnot\u001b[39;00m (has_handler(\u001b[38;5;28mself\u001b[39m\u001b[38;5;241m.\u001b[39mbefore_eventname) \u001b[38;5;129;01mor\u001b[39;00m\n\u001b[1;32m    107\u001b[0m             has_handler(\u001b[38;5;28mself\u001b[39m\u001b[38;5;241m.\u001b[39mafter_eventname)):\n\u001b[1;32m    108\u001b[0m         \u001b[38;5;66;03m# skip dispatch altogether\u001b[39;00m\n\u001b[0;32m--> 109\u001b[0m         \u001b[38;5;28;01mreturn\u001b[39;00m \u001b[43mfn\u001b[49m\u001b[43m(\u001b[49m\u001b[38;5;241;43m*\u001b[39;49m\u001b[43mpargs\u001b[49m\u001b[43m,\u001b[49m\u001b[43m \u001b[49m\u001b[38;5;241;43m*\u001b[39;49m\u001b[38;5;241;43m*\u001b[39;49m\u001b[43mkwargs\u001b[49m\u001b[43m)\u001b[49m\n\u001b[1;32m    111\u001b[0m     sig \u001b[38;5;241m=\u001b[39m inspect\u001b[38;5;241m.\u001b[39msignature(fn)\n\u001b[1;32m    112\u001b[0m     bound \u001b[38;5;241m=\u001b[39m sig\u001b[38;5;241m.\u001b[39mbind(\u001b[38;5;241m*\u001b[39mpargs, \u001b[38;5;241m*\u001b[39m\u001b[38;5;241m*\u001b[39mkwargs)\n",
      "File \u001b[0;32m/opt/homebrew/lib/python3.11/site-packages/dwave/cloud/client/base.py:467\u001b[0m, in \u001b[0;36mClient.__init__\u001b[0;34m(self, **kwargs)\u001b[0m\n\u001b[1;32m    464\u001b[0m     \u001b[38;5;28;01mraise\u001b[39;00m \u001b[38;5;167;01mValueError\u001b[39;00m(\u001b[38;5;124m\"\u001b[39m\u001b[38;5;124mAPI endpoint not defined\u001b[39m\u001b[38;5;124m\"\u001b[39m)\n\u001b[1;32m    466\u001b[0m \u001b[38;5;28;01mif\u001b[39;00m \u001b[38;5;129;01mnot\u001b[39;00m \u001b[38;5;28mself\u001b[39m\u001b[38;5;241m.\u001b[39mconfig\u001b[38;5;241m.\u001b[39mtoken:\n\u001b[0;32m--> 467\u001b[0m     \u001b[38;5;28;01mraise\u001b[39;00m \u001b[38;5;167;01mValueError\u001b[39;00m(\u001b[38;5;124m\"\u001b[39m\u001b[38;5;124mAPI token not defined\u001b[39m\u001b[38;5;124m\"\u001b[39m)\n\u001b[1;32m    469\u001b[0m \u001b[38;5;66;03m# Create session for main thread only\u001b[39;00m\n\u001b[1;32m    470\u001b[0m \u001b[38;5;28mself\u001b[39m\u001b[38;5;241m.\u001b[39msession \u001b[38;5;241m=\u001b[39m \u001b[38;5;28mself\u001b[39m\u001b[38;5;241m.\u001b[39mcreate_session()\n",
      "\u001b[0;31mValueError\u001b[0m: API token not defined"
     ]
    }
   ],
   "source": [
    "chainstrength = 2\n",
    "numruns = 10\n",
    "\n",
    "# Run the QUBO on the solver from your config file\n",
    "sampler = EmbeddingComposite(DWaveSampler())\n",
    "response = sampler.sample_ising(h, J,\n",
    "                                chain_strength=chainstrength,\n",
    "                                num_reads=numruns,\n",
    "                                label='Example - Maximum Cut Ising')\n",
    "\n",
    "# ------- Print results to user -------\n",
    "print('-' * 60)\n",
    "print('{:>15s}{:>15s}{:^15s}{:^15s}'.format('Set 0','Set 1','Energy','Cut Size'))\n",
    "print('-' * 60)\n",
    "for sample, E in response.data(fields=['sample','energy']):\n",
    "    S0 = [k for k,v in sample.items() if v == -1]\n",
    "    S1 = [k for k,v in sample.items() if v == 1]\n",
    "    print('{:>15s}{:>15s}{:^15s}{:^15s}'.format(str(S0),str(S1),str(E),str(int((6-E)/2))))"
   ]
  },
  {
   "cell_type": "code",
   "execution_count": null,
   "id": "ff8b2aa4",
   "metadata": {},
   "outputs": [],
   "source": [
    "# ------- Display results to user -------\n",
    "# Grab best result\n",
    "# Note: \"best\" result is the result with the lowest energy\n",
    "# Note2: the look up table (lut) is a dictionary, where the key is the node index\n",
    "#   and the value is the set label. For example, lut[5] = 1, indicates that\n",
    "#   node 5 is in set 1 (S1).\n",
    "lut = response.first.sample\n",
    "\n",
    "# Interpret best result in terms of nodes and edges\n",
    "S0 = [node for node in G.nodes if lut[node]==-1]\n",
    "S1 = [node for node in G.nodes if lut[node]==1]\n",
    "cut_edges = [(u, v) for u, v in G.edges if lut[u]!=lut[v]]\n",
    "uncut_edges = [(u, v) for u, v in G.edges if lut[u]==lut[v]]\n",
    "\n",
    "# Display best result\n",
    "pos = nx.spring_layout(G)\n",
    "nx.draw_networkx_nodes(G, pos, nodelist=S0, node_color='r')\n",
    "nx.draw_networkx_nodes(G, pos, nodelist=S1, node_color='c')\n",
    "nx.draw_networkx_edges(G, pos, edgelist=cut_edges, style='dashdot', alpha=0.5, width=3)\n",
    "nx.draw_networkx_edges(G, pos, edgelist=uncut_edges, style='solid', width=3)\n",
    "nx.draw_networkx_labels(G, pos)\n",
    "\n",
    "filename = \"maxcut_plot_ising.png\"\n",
    "plt.savefig(filename, bbox_inches='tight')\n"
   ]
  },
  {
   "cell_type": "code",
   "execution_count": null,
   "id": "fe7ccf2d",
   "metadata": {},
   "outputs": [],
   "source": []
  }
 ],
 "metadata": {
  "kernelspec": {
   "display_name": "Python 3 (ipykernel)",
   "language": "python",
   "name": "python3"
  },
  "language_info": {
   "codemirror_mode": {
    "name": "ipython",
    "version": 3
   },
   "file_extension": ".py",
   "mimetype": "text/x-python",
   "name": "python",
   "nbconvert_exporter": "python",
   "pygments_lexer": "ipython3",
   "version": "3.11.10"
  }
 },
 "nbformat": 4,
 "nbformat_minor": 5
}
