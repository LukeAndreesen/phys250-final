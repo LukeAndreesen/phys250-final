{
 "cells": [
  {
   "cell_type": "code",
   "execution_count": 3,
   "id": "3e6e7286",
   "metadata": {},
   "outputs": [],
   "source": [
    "import numpy as np\n",
    "n_rows = 2\n",
    "n_cols = 2\n",
    "\n",
    "h = np.random.rand(n_rows, n_cols)\n",
    "np.save('h_2_2.npy', h)"
   ]
  },
  {
   "cell_type": "code",
   "execution_count": 4,
   "id": "8e5b99b3",
   "metadata": {},
   "outputs": [],
   "source": [
    "import numpy as np\n",
    "n_rows = 5\n",
    "n_cols = 5\n",
    "\n",
    "h = np.random.rand(n_rows, n_cols)\n",
    "np.save('h_5_5.npy', h)"
   ]
  },
  {
   "cell_type": "code",
   "execution_count": null,
   "id": "bf8517f1",
   "metadata": {},
   "outputs": [],
   "source": []
  }
 ],
 "metadata": {
  "kernelspec": {
   "display_name": "Python 3 (ipykernel)",
   "language": "python",
   "name": "python3"
  },
  "language_info": {
   "codemirror_mode": {
    "name": "ipython",
    "version": 3
   },
   "file_extension": ".py",
   "mimetype": "text/x-python",
   "name": "python",
   "nbconvert_exporter": "python",
   "pygments_lexer": "ipython3",
   "version": "3.11.10"
  }
 },
 "nbformat": 4,
 "nbformat_minor": 5
}
