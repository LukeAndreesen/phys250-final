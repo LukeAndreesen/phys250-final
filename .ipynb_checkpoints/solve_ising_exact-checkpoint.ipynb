{
 "cells": [
  {
   "cell_type": "code",
   "execution_count": 1,
   "id": "b451f17d",
   "metadata": {},
   "outputs": [],
   "source": [
    "import numpy as np\n",
    "from itertools import product\n",
    "import time"
   ]
  },
  {
   "cell_type": "code",
   "execution_count": 2,
   "id": "30f8d5ac",
   "metadata": {},
   "outputs": [
    {
     "ename": "FileNotFoundError",
     "evalue": "[Errno 2] No such file or directory: 'h_4_4.npy'",
     "output_type": "error",
     "traceback": [
      "\u001b[0;31m---------------------------------------------------------------------------\u001b[0m",
      "\u001b[0;31mFileNotFoundError\u001b[0m                         Traceback (most recent call last)",
      "Cell \u001b[0;32mIn[2], line 1\u001b[0m\n\u001b[0;32m----> 1\u001b[0m h \u001b[38;5;241m=\u001b[39m \u001b[43mnp\u001b[49m\u001b[38;5;241;43m.\u001b[39;49m\u001b[43mload\u001b[49m\u001b[43m(\u001b[49m\u001b[38;5;124;43m'\u001b[39;49m\u001b[38;5;124;43mh_4_4.npy\u001b[39;49m\u001b[38;5;124;43m'\u001b[39;49m\u001b[43m)\u001b[49m\n\u001b[1;32m      2\u001b[0m \u001b[38;5;66;03m#h = np.array([[-0.42900093, -0.34531477], [-0.1746655, -0.28350231]])\u001b[39;00m\n\u001b[1;32m      3\u001b[0m J \u001b[38;5;241m=\u001b[39m \u001b[38;5;241m0.3\u001b[39m\n",
      "File \u001b[0;32m/opt/homebrew/lib/python3.11/site-packages/numpy/lib/npyio.py:427\u001b[0m, in \u001b[0;36mload\u001b[0;34m(file, mmap_mode, allow_pickle, fix_imports, encoding, max_header_size)\u001b[0m\n\u001b[1;32m    425\u001b[0m     own_fid \u001b[38;5;241m=\u001b[39m \u001b[38;5;28;01mFalse\u001b[39;00m\n\u001b[1;32m    426\u001b[0m \u001b[38;5;28;01melse\u001b[39;00m:\n\u001b[0;32m--> 427\u001b[0m     fid \u001b[38;5;241m=\u001b[39m stack\u001b[38;5;241m.\u001b[39menter_context(\u001b[38;5;28;43mopen\u001b[39;49m\u001b[43m(\u001b[49m\u001b[43mos_fspath\u001b[49m\u001b[43m(\u001b[49m\u001b[43mfile\u001b[49m\u001b[43m)\u001b[49m\u001b[43m,\u001b[49m\u001b[43m \u001b[49m\u001b[38;5;124;43m\"\u001b[39;49m\u001b[38;5;124;43mrb\u001b[39;49m\u001b[38;5;124;43m\"\u001b[39;49m\u001b[43m)\u001b[49m)\n\u001b[1;32m    428\u001b[0m     own_fid \u001b[38;5;241m=\u001b[39m \u001b[38;5;28;01mTrue\u001b[39;00m\n\u001b[1;32m    430\u001b[0m \u001b[38;5;66;03m# Code to distinguish from NumPy binary files and pickles.\u001b[39;00m\n",
      "\u001b[0;31mFileNotFoundError\u001b[0m: [Errno 2] No such file or directory: 'h_4_4.npy'"
     ]
    }
   ],
   "source": [
    "h = np.load('data/h_4_4.npy')\n",
    "#h = np.array([[-0.42900093, -0.34531477], [-0.1746655, -0.28350231]])\n",
    "J = 0.3"
   ]
  },
  {
   "cell_type": "code",
   "execution_count": null,
   "id": "50360e2b",
   "metadata": {},
   "outputs": [],
   "source": [
    "def qubit_idx(i, j, n_cols):\n",
    "    return i * n_cols + j"
   ]
  },
  {
   "cell_type": "code",
   "execution_count": null,
   "id": "74d0b3ef",
   "metadata": {},
   "outputs": [],
   "source": [
    "import numpy as np\n",
    "\n",
    "def compute_energy(h, config, J=1):\n",
    "    n, m = h.shape\n",
    "\n",
    "    # Shift configurations to compute interactions\n",
    "    down_interaction = config[:-1, :] * config[1:, :]  # Down neighbors\n",
    "    right_interaction = config[:, :-1] * config[:, 1:]  # Right neighbors\n",
    "\n",
    "    # Compute energy contributions from interactions\n",
    "    interaction_energy = -J * (np.sum(down_interaction) + np.sum(right_interaction))\n",
    "\n",
    "    # Compute energy contributions from the external field\n",
    "    field_energy = -np.sum(h * config)\n",
    "\n",
    "    return interaction_energy + field_energy\n"
   ]
  },
  {
   "cell_type": "code",
   "execution_count": null,
   "id": "92dfc6e0",
   "metadata": {},
   "outputs": [],
   "source": [
    "def all_possible_energies(field, J=1):\n",
    "    n, m = field.shape\n",
    "    num_sites = n * m\n",
    "\n",
    "    # Generate all possible configurations\n",
    "    energies = {}\n",
    "    for binary_config in product([1, -1], repeat=num_sites):\n",
    "        config = np.array(binary_config).reshape((n, m))\n",
    "        energy = compute_energy(h, config, J)\n",
    "        energies[energy] = config\n",
    "    \n",
    "    return energies"
   ]
  },
  {
   "cell_type": "code",
   "execution_count": 3,
   "id": "94468804",
   "metadata": {},
   "outputs": [
    {
     "ename": "NameError",
     "evalue": "name 'all_possible_energies' is not defined",
     "output_type": "error",
     "traceback": [
      "\u001b[0;31m---------------------------------------------------------------------------\u001b[0m",
      "\u001b[0;31mNameError\u001b[0m                                 Traceback (most recent call last)",
      "Cell \u001b[0;32mIn[3], line 2\u001b[0m\n\u001b[1;32m      1\u001b[0m start_time \u001b[38;5;241m=\u001b[39m time\u001b[38;5;241m.\u001b[39mtime()\n\u001b[0;32m----> 2\u001b[0m energies \u001b[38;5;241m=\u001b[39m \u001b[43mall_possible_energies\u001b[49m(h, J\u001b[38;5;241m=\u001b[39mJ)\n\u001b[1;32m      3\u001b[0m end_time \u001b[38;5;241m=\u001b[39m time\u001b[38;5;241m.\u001b[39mtime()\n\u001b[1;32m      4\u001b[0m min_energy \u001b[38;5;241m=\u001b[39m \u001b[38;5;28mmin\u001b[39m(energies\u001b[38;5;241m.\u001b[39mkeys())\n",
      "\u001b[0;31mNameError\u001b[0m: name 'all_possible_energies' is not defined"
     ]
    }
   ],
   "source": [
    "start_time = time.time()\n",
    "energies = all_possible_energies(h, J=J)\n",
    "end_time = time.time()\n",
    "min_energy = min(energies.keys())\n",
    "min_energy_config = energies[min_energy]\n",
    "print(min_energy_config)\n",
    "print(min_energy)\n",
    "print(energies)"
   ]
  },
  {
   "cell_type": "code",
   "execution_count": 4,
   "id": "f27141f5",
   "metadata": {},
   "outputs": [
    {
     "ename": "NameError",
     "evalue": "name 'end_time' is not defined",
     "output_type": "error",
     "traceback": [
      "\u001b[0;31m---------------------------------------------------------------------------\u001b[0m",
      "\u001b[0;31mNameError\u001b[0m                                 Traceback (most recent call last)",
      "Cell \u001b[0;32mIn[4], line 1\u001b[0m\n\u001b[0;32m----> 1\u001b[0m \u001b[38;5;28mprint\u001b[39m(\u001b[38;5;124mf\u001b[39m\u001b[38;5;124m\"\u001b[39m\u001b[38;5;124mExecution time: \u001b[39m\u001b[38;5;132;01m{\u001b[39;00m\u001b[43mend_time\u001b[49m\u001b[38;5;250m \u001b[39m\u001b[38;5;241m-\u001b[39m\u001b[38;5;250m \u001b[39mstart_time\u001b[38;5;132;01m:\u001b[39;00m\u001b[38;5;124m.6f\u001b[39m\u001b[38;5;132;01m}\u001b[39;00m\u001b[38;5;124m seconds\u001b[39m\u001b[38;5;124m\"\u001b[39m)\n",
      "\u001b[0;31mNameError\u001b[0m: name 'end_time' is not defined"
     ]
    }
   ],
   "source": [
    "print(f\"Execution time: {end_time - start_time:.6f} seconds\")"
   ]
  },
  {
   "cell_type": "code",
   "execution_count": null,
   "id": "e8a64720",
   "metadata": {},
   "outputs": [],
   "source": []
  },
  {
   "cell_type": "code",
   "execution_count": null,
   "id": "76b11d61",
   "metadata": {},
   "outputs": [],
   "source": []
  },
  {
   "cell_type": "code",
   "execution_count": null,
   "id": "0a26ed98",
   "metadata": {},
   "outputs": [],
   "source": []
  },
  {
   "cell_type": "code",
   "execution_count": 49,
   "id": "24bde955",
   "metadata": {},
   "outputs": [
    {
     "data": {
      "text/plain": [
       "array([[-0.89011568, -0.48598524,  0.22319609, -0.15968783],\n",
       "       [-0.52345957, -0.77382914, -0.59472675,  0.83157553],\n",
       "       [ 0.00144514,  0.40617505,  0.21151599, -0.72113862],\n",
       "       [-0.63415285,  0.0808944 ,  0.38149557, -0.48637157]])"
      ]
     },
     "execution_count": 49,
     "metadata": {},
     "output_type": "execute_result"
    }
   ],
   "source": [
    "# Testing below"
   ]
  },
  {
   "cell_type": "code",
   "execution_count": 63,
   "id": "065d2358",
   "metadata": {
    "scrolled": false
   },
   "outputs": [
    {
     "name": "stdout",
     "output_type": "stream",
     "text": [
      "-4.709250192877482\n"
     ]
    }
   ],
   "source": [
    "#configuration = np.array([[-1, 1, -1], [-1, -1, -1], [-1, -1, -1]])\n",
    "c = np.array([[ 1,  1, -1, -1,  1],\n",
    " [ 1, -1, -1, -1,  1],\n",
    " [-1,  1, -1,  1,  1],\n",
    " [-1, -1, -1, -1,  1],\n",
    " [-1, -1, -1, -1, -1]]\n",
    "\n",
    ")\n",
    "#configuration = np.array([[1, -1, 1, -1], [-1, 1, -1, 1], [1, -1, 1, -1], [-1, 1, -1, 1]])\n",
    "#c = np.ones((5,5))\n",
    "h = c * .01\n",
    "h3 = np.load(\"h_5_5.npy\")\n",
    "#print(compute_energy2(h, c, J=1))\n",
    "\n",
    "print(compute_energy20(h3, c, J=1.0))\n",
    "#print(calculate_ising_energy(configuration, -1.0, h, False))"
   ]
  },
  {
   "cell_type": "code",
   "execution_count": null,
   "id": "f6320787",
   "metadata": {},
   "outputs": [],
   "source": []
  },
  {
   "cell_type": "code",
   "execution_count": null,
   "id": "04149d6c",
   "metadata": {},
   "outputs": [],
   "source": []
  },
  {
   "cell_type": "code",
   "execution_count": null,
   "id": "7ffebcaf",
   "metadata": {},
   "outputs": [],
   "source": []
  },
  {
   "cell_type": "code",
   "execution_count": null,
   "id": "352303ad",
   "metadata": {},
   "outputs": [],
   "source": []
  },
  {
   "cell_type": "code",
   "execution_count": null,
   "id": "9b079751",
   "metadata": {},
   "outputs": [],
   "source": []
  },
  {
   "cell_type": "code",
   "execution_count": null,
   "id": "557351b6",
   "metadata": {},
   "outputs": [],
   "source": []
  },
  {
   "cell_type": "code",
   "execution_count": null,
   "id": "d344a84e",
   "metadata": {},
   "outputs": [],
   "source": []
  },
  {
   "cell_type": "code",
   "execution_count": null,
   "id": "9c0055f8",
   "metadata": {},
   "outputs": [],
   "source": []
  },
  {
   "cell_type": "code",
   "execution_count": null,
   "id": "db825c1e",
   "metadata": {},
   "outputs": [],
   "source": []
  },
  {
   "cell_type": "code",
   "execution_count": null,
   "id": "65b784f9",
   "metadata": {},
   "outputs": [],
   "source": []
  }
 ],
 "metadata": {
  "kernelspec": {
   "display_name": "Python 3 (ipykernel)",
   "language": "python",
   "name": "python3"
  },
  "language_info": {
   "codemirror_mode": {
    "name": "ipython",
    "version": 3
   },
   "file_extension": ".py",
   "mimetype": "text/x-python",
   "name": "python",
   "nbconvert_exporter": "python",
   "pygments_lexer": "ipython3",
   "version": "3.11.10"
  }
 },
 "nbformat": 4,
 "nbformat_minor": 5
}
