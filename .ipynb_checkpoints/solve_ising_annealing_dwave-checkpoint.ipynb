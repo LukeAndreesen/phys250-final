{
 "cells": [
  {
   "cell_type": "code",
   "execution_count": 211,
   "id": "6cec9333",
   "metadata": {},
   "outputs": [],
   "source": [
    "from collections import defaultdict\n",
    "from dwave.system.samplers import DWaveSampler\n",
    "from dwave.system.composites import EmbeddingComposite\n",
    "from matplotlib import pyplot as plt\n",
    "import networkx as nx\n",
    "import numpy as np"
   ]
  },
  {
   "cell_type": "code",
   "execution_count": 212,
   "id": "5bafb15b",
   "metadata": {},
   "outputs": [],
   "source": [
    "token = \"DEV-9418cbf4c508fabda8abbc544cfad7f20acc7d15\""
   ]
  },
  {
   "cell_type": "code",
   "execution_count": 213,
   "id": "5ee4a6b4",
   "metadata": {},
   "outputs": [],
   "source": [
    "h = np.load('h_50_50.npy')\n",
    "#h = np.ones((5, 5)) * .01\n",
    "#h = np.array([[-0.42900093, -0.34531477], [-0.1746655, -0.28350231]])\n",
    "\n",
    "n_rows, n_cols = h.shape\n",
    "J = 0.7"
   ]
  },
  {
   "cell_type": "code",
   "execution_count": 214,
   "id": "ee8a689d",
   "metadata": {},
   "outputs": [
    {
     "data": {
      "text/plain": [
       "array([[ 0.91034348,  0.1340066 , -0.4001715 , ...,  0.91032748,\n",
       "         0.2160551 , -0.0449345 ],\n",
       "       [-0.56717306, -0.68796155,  0.32879633, ..., -0.41835343,\n",
       "        -0.13733273, -0.74215305],\n",
       "       [-0.69689282, -0.13194526, -0.30835773, ..., -0.69925391,\n",
       "         0.26277027, -0.29773674],\n",
       "       ...,\n",
       "       [-0.35499368,  0.52610728,  0.21206896, ..., -0.65022011,\n",
       "         0.92215774,  0.84189592],\n",
       "       [ 0.99381072, -0.94080687, -0.48894846, ..., -0.20352635,\n",
       "        -0.97700955,  0.73067691],\n",
       "       [ 0.33858779,  0.67897103,  0.83153986, ..., -0.73061705,\n",
       "        -0.22285173, -0.82159972]])"
      ]
     },
     "execution_count": 214,
     "metadata": {},
     "output_type": "execute_result"
    }
   ],
   "source": [
    "h"
   ]
  },
  {
   "cell_type": "code",
   "execution_count": 215,
   "id": "49bb820a",
   "metadata": {},
   "outputs": [],
   "source": [
    "h_flat = h.flatten()  # Flatten the 2D array into 1D\n",
    "n_rows, n_cols = h.shape\n",
    "j = {}\n",
    "coupling_strength = J * -1\n",
    "\n",
    "# Define horizontal couplings (within rows)\n",
    "for row in range(n_rows):\n",
    "    for col in range(n_cols - 1):\n",
    "        idx_1 = row * n_cols + col\n",
    "        idx_2 = row * n_cols + (col + 1)\n",
    "        j[(idx_1, idx_2)] = coupling_strength\n",
    "\n",
    "# Define vertical couplings (between rows)\n",
    "for row in range(n_rows - 1):\n",
    "    for col in range(n_cols):\n",
    "        idx_1 = row * n_cols + col\n",
    "        idx_2 = (row + 1) * n_cols + col\n",
    "        j[(idx_1, idx_2)] = coupling_strength\n"
   ]
  },
  {
   "cell_type": "code",
   "execution_count": 216,
   "id": "d6e69e10",
   "metadata": {},
   "outputs": [],
   "source": [
    "h_flat *= -1"
   ]
  },
  {
   "cell_type": "code",
   "execution_count": null,
   "id": "77cbc40f",
   "metadata": {},
   "outputs": [],
   "source": [
    "sampler = EmbeddingComposite(DWaveSampler(token=token))\n",
    "response = sampler.sample_ising(h_flat, j,\n",
    "                            #    chain_strength=chainstrength,\n",
    "                                num_reads=100,\n",
    "                                label=f\"{n_rows}x{n_cols}, J={J} Ising Example\")"
   ]
  },
  {
   "cell_type": "code",
   "execution_count": null,
   "id": "e814a8d3",
   "metadata": {},
   "outputs": [],
   "source": [
    "# Print the results\n",
    "for sample, energy in response.data(fields=['sample', 'energy']):\n",
    "    print(\"Sample:\", sample, \"Energy:\", energy)"
   ]
  },
  {
   "cell_type": "code",
   "execution_count": null,
   "id": "c1970b74",
   "metadata": {},
   "outputs": [],
   "source": [
    "a = {0: 1, 1: 1, 2: 1, 3: 1, 4: 1, 5: 1, 6: 1, 7: 1, 8: 1, 9: 1, 10: 1, 11: 1, 12: 1, 13: 1, 14: 1, 15: 1, 16: 1, 17: 1, 18: 1, 19: 1, 20: 1, 21: 1, 22: 1, 23: 1, 24: 1}"
   ]
  },
  {
   "cell_type": "code",
   "execution_count": 210,
   "id": "e0966ecf",
   "metadata": {},
   "outputs": [],
   "source": [
    "values_list = [a[key] for key in sorted(a.keys())]"
   ]
  },
  {
   "cell_type": "code",
   "execution_count": 199,
   "id": "a7ee1ce2",
   "metadata": {},
   "outputs": [
    {
     "data": {
      "text/plain": [
       "[1, 1, 1, 1, 1, 1, 1, 1, 1, 1, 1, 1, 1, 1, 1, 1, 1, 1, 1, 1, 1, 1, 1, 1, 1]"
      ]
     },
     "execution_count": 199,
     "metadata": {},
     "output_type": "execute_result"
    }
   ],
   "source": [
    "values_list"
   ]
  },
  {
   "cell_type": "code",
   "execution_count": 200,
   "id": "982d7743",
   "metadata": {},
   "outputs": [
    {
     "data": {
      "text/plain": [
       "array([[ 1, -1, -1,  1,  1],\n",
       "       [ 1, -1,  1,  1,  1],\n",
       "       [ 1,  1,  1, -1,  1],\n",
       "       [ 1,  1,  1,  1,  1],\n",
       "       [ 1,  1,  1,  1,  1]])"
      ]
     },
     "execution_count": 200,
     "metadata": {},
     "output_type": "execute_result"
    }
   ],
   "source": [
    "np.array([[1, -1, -1, 1, 1], [1, -1, 1, 1, 1], [1, 1, 1, -1, 1], [1, 1, 1, 1, 1], [1, 1, 1, 1, 1]])"
   ]
  },
  {
   "cell_type": "code",
   "execution_count": null,
   "id": "acd6b624",
   "metadata": {},
   "outputs": [],
   "source": []
  },
  {
   "cell_type": "code",
   "execution_count": null,
   "id": "9228aeef",
   "metadata": {},
   "outputs": [],
   "source": []
  },
  {
   "cell_type": "code",
   "execution_count": null,
   "id": "cf48b40c",
   "metadata": {},
   "outputs": [],
   "source": []
  },
  {
   "cell_type": "code",
   "execution_count": null,
   "id": "313b81a9",
   "metadata": {},
   "outputs": [],
   "source": []
  }
 ],
 "metadata": {
  "kernelspec": {
   "display_name": "Python 3 (ipykernel)",
   "language": "python",
   "name": "python3"
  },
  "language_info": {
   "codemirror_mode": {
    "name": "ipython",
    "version": 3
   },
   "file_extension": ".py",
   "mimetype": "text/x-python",
   "name": "python",
   "nbconvert_exporter": "python",
   "pygments_lexer": "ipython3",
   "version": "3.11.10"
  }
 },
 "nbformat": 4,
 "nbformat_minor": 5
}
